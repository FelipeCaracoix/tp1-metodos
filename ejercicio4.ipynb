{
 "cells": [
  {
   "cell_type": "markdown",
   "metadata": {},
   "source": [
    "# Ejercicio 4\n",
    "#### Métodos computacionales:\n",
    "##### Marsili - Caracoix - Wolodarsky"
   ]
  },
  {
   "cell_type": "code",
   "execution_count": 7,
   "metadata": {},
   "outputs": [],
   "source": [
    "import pandas as pd\n",
    "from matricesRalas import *\n",
    "\n",
    "papers = pd.read_csv('papers/papers.csv', header = 0)\n",
    "citas = pd.read_csv('papers/citas.csv', header = 0)"
   ]
  },
  {
   "cell_type": "markdown",
   "metadata": {},
   "source": [
    "- Importamos las funciones de marticesRalas y la biblioteca de Pandas.\n",
    "- Usamos pandas para extraer la informacion de los .csv"
   ]
  },
  {
   "cell_type": "code",
   "execution_count": 8,
   "metadata": {},
   "outputs": [],
   "source": [
    "W = MatrizRala(len(papers), len(papers))\n",
    "\n",
    "D = MatrizRala(len(papers), len(papers))\n",
    "\n",
    "cantidad_citas = [0] * len(papers)\n",
    "for index, row in citas.iterrows():\n",
    "    W[row['to'], row['from']] = 1\n",
    "    cantidad_citas[row['from']] += 1\n",
    "\n",
    "for i in range(len(cantidad_citas)):\n",
    "    if cantidad_citas[i] != 0:\n",
    "        D[i, i] = 1/cantidad_citas[i]"
   ]
  },
  {
   "cell_type": "markdown",
   "metadata": {},
   "source": [
    "- Creamos las matrices W y D con tamaño len(papers) x len(papers)\n",
    "- Construimos la matriz W con los valores de las citaciones según las asignaciones definidas en ‘assignments’\n",
    "- Y luego la matriz D, donde cada entrada en la diagonal tiene la probabilidad de que ese paper sea citado: 1/𝑐𝑖, donde ci es el conjunto de índices de los papers que citan a 𝑝𝑖. Es decir, 𝑗 está en 𝐶(𝑖) si 𝑝𝑗 cita a 𝑝i.\n"
   ]
  },
  {
   "cell_type": "code",
   "execution_count": 9,
   "metadata": {},
   "outputs": [],
   "source": [
    "def matriz_de_unos(n,m):\n",
    "    matriz = MatrizRala(n,m)\n",
    "    for i in range(matriz.shape[0]):\n",
    "        for j in range(matriz.shape[1]):\n",
    "            matriz[i,j] = 1\n",
    "    return matriz"
   ]
  },
  {
   "cell_type": "code",
   "execution_count": 10,
   "metadata": {},
   "outputs": [],
   "source": [
    "#Genero mi vector de probabilidades de manera iterativa\n",
    "N = len(papers)\n",
    "d = 0.85\n",
    "p_t = MatrizRala(N,1)\n",
    "for i in range(N):\n",
    "    p_t[i,0] = 1/N\n",
    "\n",
    "tolerance = 1e-6\n",
    "error = 1\n",
    "\n",
    "mat_unos = matriz_de_unos(N,1)\n",
    "unoMenosDeSobreEne = ((1-d)/N) * mat_unos\n",
    "d_W = d * W\n",
    "d_WD = d_W @ D\n",
    "\n",
    "\n",
    "while error > tolerance:\n",
    "    # Multiplica la matriz W_D por el vector p_t y escala por d\n",
    "    p_t_plus_1 = d_WD @ p_t\n",
    "    p_t_plus_1 = unoMenosDeSobreEne + p_t_plus_1\n",
    "    # Calcula el error máximo en esta iteración comparando el nuevo vector de PageRank con el anterior\n",
    "    error = max(abs(p_t_plus_1[i,0] - p_t[i,0]) for i in range(N))\n",
    "\n",
    "    # Actualiza el vector de PageRank para la próxima iteración\n",
    "    p_t = p_t_plus_1"
   ]
  },
  {
   "cell_type": "markdown",
   "metadata": {},
   "source": [
    "Estimamos el P* de forma iterativa, como en el ejercicio 3."
   ]
  },
  {
   "cell_type": "code",
   "execution_count": 11,
   "metadata": {},
   "outputs": [
    {
     "name": "stdout",
     "output_type": "stream",
     "text": [
      "Top 10 Papers by PageRank:\n",
      "1. Paper ID: 81323, Title: \"The art of computer programming, volume 2 (3rd ed.): seminumerical algorithms\", Score: 0.00010947382752488224\n",
      "2. Paper ID: 327827, Title: \"A method for obtaining digital signatures and public-key cryptosystems\", Score: 0.00010919870666871219\n",
      "3. Paper ID: 79620, Title: \"The art of computer programming, volume 1 (3rd ed.): fundamental algorithms\", Score: 0.00010681341007934271\n",
      "4. Paper ID: 326368, Title: \"A relational model of data for large shared data banks\", Score: 0.00010487915217928264\n",
      "5. Paper ID: 547167, Title: \"Recovery semantics for a DB/DC system\", Score: 0.00010371568503380856\n",
      "6. Paper ID: 552437, Title: \"Recovery scenario for a DB/DC system\", Score: 0.00010206767474799947\n",
      "7. Paper ID: 322720, Title: \"Programming semantics for multiprogrammed computations\", Score: 6.540565780259542e-05\n",
      "8. Paper ID: 153803, Title: \"Principles of interactive computer graphics (2nd ed.)\", Score: 6.263595635632845e-05\n",
      "9. Paper ID: 328020, Title: \"Report on the algorithmic language ALGOL 60\", Score: 5.768023977570369e-05\n",
      "10. Paper ID: 317300, Title: \"Ethernet: distributed packet switching for local computer networks\", Score: 5.5822472215407566e-05\n"
     ]
    }
   ],
   "source": [
    "#Ordeno e imprimo el top 10 papers\n",
    "\n",
    "# Create list of (PageRank score, index)\n",
    "lista = [(p_t[i, 0], i) for i in range(len(papers))]\n",
    "\n",
    "# Sort by PageRank score in descending order\n",
    "sorted_papers = sorted(lista, key=lambda x: x[0], reverse=True)\n",
    "\n",
    "# Print the top 10 papers with podium ranking\n",
    "print(\"Top 10 Papers by PageRank:\")\n",
    "for rank, (score, paper_id) in enumerate(sorted_papers[:10], start=1):\n",
    "    paper = papers.loc[paper_id]\n",
    "    print(f\"{rank}. Paper ID: {paper['id']}, Title: \\\"{paper['titulo']}\\\", Score: {score}\")"
   ]
  }
 ],
 "metadata": {
  "kernelspec": {
   "display_name": "Python 3.11.2 64-bit",
   "language": "python",
   "name": "python3"
  },
  "language_info": {
   "codemirror_mode": {
    "name": "ipython",
    "version": 3
   },
   "file_extension": ".py",
   "mimetype": "text/x-python",
   "name": "python",
   "nbconvert_exporter": "python",
   "pygments_lexer": "ipython3",
   "version": "3.11.2"
  },
  "vscode": {
   "interpreter": {
    "hash": "aee8b7b246df8f9039afb4144a1f6fd8d2ca17a180786b69acc140d282b71a49"
   }
  }
 },
 "nbformat": 4,
 "nbformat_minor": 2
}
