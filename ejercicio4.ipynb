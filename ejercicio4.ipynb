{
 "cells": [
  {
   "cell_type": "code",
   "execution_count": 22,
   "metadata": {},
   "outputs": [],
   "source": [
    "import pandas as pd\n",
    "from matricesRalas import *"
   ]
  },
  {
   "cell_type": "code",
   "execution_count": 23,
   "metadata": {},
   "outputs": [],
   "source": [
    "papers = pd.read_csv('papers/papers.csv', header = 0)\n",
    "citas = pd.read_csv('papers/citas.csv', header = 0)"
   ]
  },
  {
   "cell_type": "code",
   "execution_count": 24,
   "metadata": {},
   "outputs": [],
   "source": [
    "W = MatrizRala(len(papers), len(papers))\n",
    "D = MatrizRala(len(papers), len(papers))"
   ]
  },
  {
   "cell_type": "code",
   "execution_count": 25,
   "metadata": {},
   "outputs": [],
   "source": [
    "cantidad_citas = [0] * len(papers)\n",
    "for index, row in citas.iterrows():\n",
    "    W[row['to'], row['from']] = 1\n",
    "    cantidad_citas[row['from']] += 1\n",
    "\n",
    "for i in range(len(cantidad_citas)):\n",
    "    if cantidad_citas[i] != 0:\n",
    "        D[i, i] = 1/cantidad_citas[i]"
   ]
  },
  {
   "cell_type": "code",
   "execution_count": 26,
   "metadata": {},
   "outputs": [],
   "source": [
    "def matriz_de_unos(n,m):\n",
    "    matriz = MatrizRala(n,m)\n",
    "    for i in range(matriz.shape[0]):\n",
    "        for j in range(matriz.shape[1]):\n",
    "            matriz[i,j] = 1\n",
    "    return matriz"
   ]
  },
  {
   "cell_type": "code",
   "execution_count": 27,
   "metadata": {},
   "outputs": [],
   "source": [
    "def P_it(d,N,W,D):\n",
    "    p_t = MatrizRala(N,1)     # Initial equiprobable distribution\n",
    "    for i in range(N):\n",
    "        p_t[i,0] = 1/N\n",
    "\n",
    "    tolerance = 1e-6\n",
    "    errores = []\n",
    "    error = 1\n",
    "\n",
    "    mat_unos = matriz_de_unos(N,1)\n",
    "    unoMenosDeSobreEne = ((1-d)/N) * mat_unos\n",
    "    d_W = d * W\n",
    "    d_WD = d_W @ D\n",
    "\n",
    "\n",
    "    while error > tolerance:\n",
    "        # Multiplica la matriz W_D por el vector p_t y escala por d\n",
    "        p_t_plus_1 = d_WD @ p_t\n",
    "        p_t_plus_1 = unoMenosDeSobreEne + p_t_plus_1\n",
    "        # Calcula el error máximo en esta iteración comparando el nuevo vector de PageRank con el anterior\n",
    "        error = max(abs(p_t_plus_1[i,0] - p_t[i,0]) for i in range(N))\n",
    "        errores.append(error)\n",
    "\n",
    "        # Actualiza el vector de PageRank para la próxima iteración\n",
    "        p_t = p_t_plus_1\n",
    "    return p_t, errores"
   ]
  },
  {
   "cell_type": "code",
   "execution_count": 28,
   "metadata": {},
   "outputs": [
    {
     "name": "stdout",
     "output_type": "stream",
     "text": [
      "Top 10 Papers by PageRank:\n",
      "1. Paper ID: 81323, Title: \"The art of computer programming, volume 2 (3rd ed.): seminumerical algorithms\", Score: 0.00010947382752488224\n",
      "2. Paper ID: 327827, Title: \"A method for obtaining digital signatures and public-key cryptosystems\", Score: 0.00010919870666871219\n",
      "3. Paper ID: 79620, Title: \"The art of computer programming, volume 1 (3rd ed.): fundamental algorithms\", Score: 0.00010681341007934271\n",
      "4. Paper ID: 326368, Title: \"A relational model of data for large shared data banks\", Score: 0.00010487915217928264\n",
      "5. Paper ID: 547167, Title: \"Recovery semantics for a DB/DC system\", Score: 0.00010371568503380856\n",
      "6. Paper ID: 552437, Title: \"Recovery scenario for a DB/DC system\", Score: 0.00010206767474799947\n",
      "7. Paper ID: 322720, Title: \"Programming semantics for multiprogrammed computations\", Score: 6.540565780259542e-05\n",
      "8. Paper ID: 153803, Title: \"Principles of interactive computer graphics (2nd ed.)\", Score: 6.263595635632845e-05\n",
      "9. Paper ID: 328020, Title: \"Report on the algorithmic language ALGOL 60\", Score: 5.768023977570369e-05\n",
      "10. Paper ID: 317300, Title: \"Ethernet: distributed packet switching for local computer networks\", Score: 5.5822472215407566e-05\n"
     ]
    }
   ],
   "source": [
    "\n",
    "# Llamar a la función y pasar la ruta al archivo CSV\n",
    "\n",
    "N = len(papers)\n",
    "d = 0.85\n",
    "\n",
    "page_ranks = P_it(d, N, W, D)\n",
    "\n",
    "# Create list of (PageRank score, index)\n",
    "lista = [(page_ranks[0][i, 0], i) for i in range(len(papers))]\n",
    "\n",
    "# Sort by PageRank score in descending order\n",
    "sorted_papers = sorted(lista, key=lambda x: x[0], reverse=True)\n",
    "\n",
    "# Print the top 10 papers with podium ranking\n",
    "print(\"Top 10 Papers by PageRank:\")\n",
    "for rank, (score, paper_id) in enumerate(sorted_papers[:10], start=1):\n",
    "    paper = papers.loc[paper_id]\n",
    "    print(f\"{rank}. Paper ID: {paper['id']}, Title: \\\"{paper['titulo']}\\\", Score: {score}\")"
   ]
  }
 ],
 "metadata": {
  "kernelspec": {
   "display_name": "Python 3.11.2 64-bit",
   "language": "python",
   "name": "python3"
  },
  "language_info": {
   "codemirror_mode": {
    "name": "ipython",
    "version": 3
   },
   "file_extension": ".py",
   "mimetype": "text/x-python",
   "name": "python",
   "nbconvert_exporter": "python",
   "pygments_lexer": "ipython3",
   "version": "3.11.2"
  },
  "vscode": {
   "interpreter": {
    "hash": "aee8b7b246df8f9039afb4144a1f6fd8d2ca17a180786b69acc140d282b71a49"
   }
  }
 },
 "nbformat": 4,
 "nbformat_minor": 2
}
